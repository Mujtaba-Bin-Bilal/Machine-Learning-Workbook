{
 "cells": [
  {
   "cell_type": "code",
   "execution_count": null,
   "id": "210413b3-3b5e-4b03-a301-938a7bf045ac",
   "metadata": {},
   "outputs": [],
   "source": []
  }
 ],
 "metadata": {
  "kernelspec": {
   "display_name": "",
   "name": ""
  },
  "language_info": {
   "name": ""
  }
 },
 "nbformat": 4,
 "nbformat_minor": 5
}
